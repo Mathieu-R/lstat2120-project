{
 "cells": [
  {
   "cell_type": "code",
   "execution_count": 8,
   "id": "35c83156",
   "metadata": {},
   "outputs": [],
   "source": [
    "import pandas as pd\n",
    "import seaborn as sns\n",
    "import numpy as np"
   ]
  },
  {
   "cell_type": "code",
   "execution_count": 9,
   "id": "064edab4",
   "metadata": {},
   "outputs": [],
   "source": [
    "pd.set_option('display.max_columns', None)"
   ]
  },
  {
   "cell_type": "code",
   "execution_count": 10,
   "id": "89b5259d",
   "metadata": {
    "scrolled": true
   },
   "outputs": [
    {
     "name": "stdout",
     "output_type": "stream",
     "text": [
      "(129, 21)\n"
     ]
    },
    {
     "data": {
      "text/html": [
       "<div>\n",
       "<style scoped>\n",
       "    .dataframe tbody tr th:only-of-type {\n",
       "        vertical-align: middle;\n",
       "    }\n",
       "\n",
       "    .dataframe tbody tr th {\n",
       "        vertical-align: top;\n",
       "    }\n",
       "\n",
       "    .dataframe thead th {\n",
       "        text-align: right;\n",
       "    }\n",
       "</style>\n",
       "<table border=\"1\" class=\"dataframe\">\n",
       "  <thead>\n",
       "    <tr style=\"text-align: right;\">\n",
       "      <th></th>\n",
       "      <th>Country</th>\n",
       "      <th>Status</th>\n",
       "      <th>Life expectancy</th>\n",
       "      <th>Adult Mortality</th>\n",
       "      <th>infant deaths</th>\n",
       "      <th>Alcohol</th>\n",
       "      <th>percentage expenditure</th>\n",
       "      <th>Hepatitis B</th>\n",
       "      <th>Measles</th>\n",
       "      <th>BMI</th>\n",
       "      <th>under-five deaths</th>\n",
       "      <th>Polio</th>\n",
       "      <th>Total expenditure</th>\n",
       "      <th>Diphtheria</th>\n",
       "      <th>HIV/AIDS</th>\n",
       "      <th>GDP</th>\n",
       "      <th>Population</th>\n",
       "      <th>thinness  1-19 years</th>\n",
       "      <th>thinness 5-9 years</th>\n",
       "      <th>Income composition of resources</th>\n",
       "      <th>Schooling</th>\n",
       "    </tr>\n",
       "  </thead>\n",
       "  <tbody>\n",
       "    <tr>\n",
       "      <th>0</th>\n",
       "      <td>Afghanistan</td>\n",
       "      <td>Developing</td>\n",
       "      <td>59.5</td>\n",
       "      <td>high</td>\n",
       "      <td>69</td>\n",
       "      <td>0.01</td>\n",
       "      <td>78.184215</td>\n",
       "      <td>67.0</td>\n",
       "      <td>2787</td>\n",
       "      <td>17.6</td>\n",
       "      <td>93</td>\n",
       "      <td>67.0</td>\n",
       "      <td>8.52</td>\n",
       "      <td>67.0</td>\n",
       "      <td>0.1</td>\n",
       "      <td>669.959000</td>\n",
       "      <td>3696958.0</td>\n",
       "      <td>17.9</td>\n",
       "      <td>18.0</td>\n",
       "      <td>0.463</td>\n",
       "      <td>9.8</td>\n",
       "    </tr>\n",
       "    <tr>\n",
       "      <th>1</th>\n",
       "      <td>Albania</td>\n",
       "      <td>Developing</td>\n",
       "      <td>76.9</td>\n",
       "      <td>middle</td>\n",
       "      <td>0</td>\n",
       "      <td>5.14</td>\n",
       "      <td>412.443356</td>\n",
       "      <td>99.0</td>\n",
       "      <td>9</td>\n",
       "      <td>55.8</td>\n",
       "      <td>1</td>\n",
       "      <td>99.0</td>\n",
       "      <td>5.59</td>\n",
       "      <td>99.0</td>\n",
       "      <td>0.1</td>\n",
       "      <td>4247.614380</td>\n",
       "      <td>2941.0</td>\n",
       "      <td>1.3</td>\n",
       "      <td>1.4</td>\n",
       "      <td>0.752</td>\n",
       "      <td>14.2</td>\n",
       "    </tr>\n",
       "    <tr>\n",
       "      <th>2</th>\n",
       "      <td>Algeria</td>\n",
       "      <td>Developing</td>\n",
       "      <td>75.1</td>\n",
       "      <td>middle</td>\n",
       "      <td>21</td>\n",
       "      <td>0.66</td>\n",
       "      <td>555.926083</td>\n",
       "      <td>95.0</td>\n",
       "      <td>18</td>\n",
       "      <td>56.1</td>\n",
       "      <td>24</td>\n",
       "      <td>95.0</td>\n",
       "      <td>6.14</td>\n",
       "      <td>95.0</td>\n",
       "      <td>0.1</td>\n",
       "      <td>5564.825660</td>\n",
       "      <td>37565847.0</td>\n",
       "      <td>5.9</td>\n",
       "      <td>5.8</td>\n",
       "      <td>0.732</td>\n",
       "      <td>14.4</td>\n",
       "    </tr>\n",
       "    <tr>\n",
       "      <th>3</th>\n",
       "      <td>Angola</td>\n",
       "      <td>Developing</td>\n",
       "      <td>56.0</td>\n",
       "      <td>very high</td>\n",
       "      <td>72</td>\n",
       "      <td>8.24</td>\n",
       "      <td>256.122524</td>\n",
       "      <td>75.0</td>\n",
       "      <td>4458</td>\n",
       "      <td>21.5</td>\n",
       "      <td>110</td>\n",
       "      <td>75.0</td>\n",
       "      <td>3.30</td>\n",
       "      <td>75.0</td>\n",
       "      <td>2.6</td>\n",
       "      <td>4598.249988</td>\n",
       "      <td>259615.0</td>\n",
       "      <td>8.8</td>\n",
       "      <td>8.6</td>\n",
       "      <td>0.508</td>\n",
       "      <td>10.3</td>\n",
       "    </tr>\n",
       "    <tr>\n",
       "      <th>4</th>\n",
       "      <td>Argentina</td>\n",
       "      <td>Developing</td>\n",
       "      <td>75.9</td>\n",
       "      <td>very low</td>\n",
       "      <td>9</td>\n",
       "      <td>8.35</td>\n",
       "      <td>1133.558003</td>\n",
       "      <td>91.0</td>\n",
       "      <td>2</td>\n",
       "      <td>61.0</td>\n",
       "      <td>10</td>\n",
       "      <td>99.0</td>\n",
       "      <td>5.20</td>\n",
       "      <td>91.0</td>\n",
       "      <td>0.1</td>\n",
       "      <td>12969.771200</td>\n",
       "      <td>4296739.0</td>\n",
       "      <td>1.0</td>\n",
       "      <td>0.9</td>\n",
       "      <td>0.822</td>\n",
       "      <td>17.2</td>\n",
       "    </tr>\n",
       "  </tbody>\n",
       "</table>\n",
       "</div>"
      ],
      "text/plain": [
       "       Country      Status  Life expectancy  Adult Mortality  infant deaths  \\\n",
       "0  Afghanistan  Developing              59.5            high             69   \n",
       "1      Albania  Developing              76.9          middle              0   \n",
       "2      Algeria  Developing              75.1          middle             21   \n",
       "3       Angola  Developing              56.0       very high             72   \n",
       "4    Argentina  Developing              75.9        very low              9   \n",
       "\n",
       "   Alcohol  percentage expenditure  Hepatitis B  Measles    BMI   \\\n",
       "0     0.01               78.184215         67.0      2787   17.6   \n",
       "1     5.14              412.443356         99.0         9   55.8   \n",
       "2     0.66              555.926083         95.0        18   56.1   \n",
       "3     8.24              256.122524         75.0      4458   21.5   \n",
       "4     8.35             1133.558003         91.0         2   61.0   \n",
       "\n",
       "   under-five deaths   Polio  Total expenditure  Diphtheria    HIV/AIDS  \\\n",
       "0                  93   67.0               8.52         67.0        0.1   \n",
       "1                   1   99.0               5.59         99.0        0.1   \n",
       "2                  24   95.0               6.14         95.0        0.1   \n",
       "3                 110   75.0               3.30         75.0        2.6   \n",
       "4                  10   99.0               5.20         91.0        0.1   \n",
       "\n",
       "            GDP  Population   thinness  1-19 years   thinness 5-9 years  \\\n",
       "0    669.959000   3696958.0                   17.9                 18.0   \n",
       "1   4247.614380      2941.0                    1.3                  1.4   \n",
       "2   5564.825660  37565847.0                    5.9                  5.8   \n",
       "3   4598.249988    259615.0                    8.8                  8.6   \n",
       "4  12969.771200   4296739.0                    1.0                  0.9   \n",
       "\n",
       "   Income composition of resources  Schooling  \n",
       "0                            0.463        9.8  \n",
       "1                            0.752       14.2  \n",
       "2                            0.732       14.4  \n",
       "3                            0.508       10.3  \n",
       "4                            0.822       17.2  "
      ]
     },
     "execution_count": 10,
     "metadata": {},
     "output_type": "execute_result"
    }
   ],
   "source": [
    "df = pd.read_csv(\"dataset/life-expectancy-2012.csv\", sep=\",\", decimal=\".\")\n",
    "print(df.shape)\n",
    "df.head()"
   ]
  },
  {
   "cell_type": "code",
   "execution_count": 11,
   "id": "8b1ecc0e",
   "metadata": {},
   "outputs": [
    {
     "name": "stdout",
     "output_type": "stream",
     "text": [
      "<class 'pandas.core.frame.DataFrame'>\n",
      "RangeIndex: 129 entries, 0 to 128\n",
      "Data columns (total 21 columns):\n",
      " #   Column                           Non-Null Count  Dtype  \n",
      "---  ------                           --------------  -----  \n",
      " 0   Country                          129 non-null    object \n",
      " 1   Status                           129 non-null    object \n",
      " 2   Life expectancy                  129 non-null    float64\n",
      " 3   Adult Mortality                  129 non-null    object \n",
      " 4   infant deaths                    129 non-null    int64  \n",
      " 5   Alcohol                          129 non-null    float64\n",
      " 6   percentage expenditure           129 non-null    float64\n",
      " 7   Hepatitis B                      129 non-null    float64\n",
      " 8   Measles                          129 non-null    int64  \n",
      " 9    BMI                             129 non-null    float64\n",
      " 10  under-five deaths                129 non-null    int64  \n",
      " 11  Polio                            129 non-null    float64\n",
      " 12  Total expenditure                129 non-null    float64\n",
      " 13  Diphtheria                       129 non-null    float64\n",
      " 14   HIV/AIDS                        129 non-null    float64\n",
      " 15  GDP                              129 non-null    float64\n",
      " 16  Population                       129 non-null    float64\n",
      " 17   thinness  1-19 years            129 non-null    float64\n",
      " 18   thinness 5-9 years              129 non-null    float64\n",
      " 19  Income composition of resources  129 non-null    float64\n",
      " 20  Schooling                        129 non-null    float64\n",
      "dtypes: float64(15), int64(3), object(3)\n",
      "memory usage: 21.3+ KB\n"
     ]
    }
   ],
   "source": [
    "df.info()"
   ]
  },
  {
   "cell_type": "markdown",
   "id": "987e79ce",
   "metadata": {},
   "source": [
    "### Research question"
   ]
  },
  {
   "cell_type": "markdown",
   "id": "32f5a267",
   "metadata": {},
   "source": [
    "We're interested in understanding which factors affect positively or negatively the life expectancy in different countries for the year 2012."
   ]
  },
  {
   "cell_type": "markdown",
   "id": "52cf08d2",
   "metadata": {},
   "source": [
    "### Train - Test split"
   ]
  },
  {
   "cell_type": "code",
   "execution_count": 7,
   "id": "55229515",
   "metadata": {},
   "outputs": [],
   "source": [
    "from sklearn.model_selection import train_test_split"
   ]
  },
  {
   "cell_type": "code",
   "execution_count": null,
   "id": "854a905e",
   "metadata": {},
   "outputs": [],
   "source": [
    "X = df.drop()\n",
    "\n",
    "X_train, X_test, Y_train, Y_test = train_test_split()"
   ]
  },
  {
   "cell_type": "markdown",
   "id": "e0be3b2a",
   "metadata": {},
   "source": [
    "### Exploratory Data Analysis"
   ]
  },
  {
   "cell_type": "code",
   "execution_count": null,
   "id": "f4e49de2",
   "metadata": {},
   "outputs": [],
   "source": [
    "X_train"
   ]
  }
 ],
 "metadata": {
  "kernelspec": {
   "display_name": "Python 3 (ipykernel)",
   "language": "python",
   "name": "python3"
  },
  "language_info": {
   "codemirror_mode": {
    "name": "ipython",
    "version": 3
   },
   "file_extension": ".py",
   "mimetype": "text/x-python",
   "name": "python",
   "nbconvert_exporter": "python",
   "pygments_lexer": "ipython3",
   "version": "3.9.13"
  }
 },
 "nbformat": 4,
 "nbformat_minor": 5
}
